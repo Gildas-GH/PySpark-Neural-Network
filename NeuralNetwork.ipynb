{
 "cells": [
  {
   "cell_type": "markdown",
   "metadata": {},
   "source": [
    "# Neural Network From Scratch for Image Classification"
   ]
  },
  {
   "cell_type": "markdown",
   "metadata": {},
   "source": [
    "****"
   ]
  },
  {
   "cell_type": "markdown",
   "metadata": {},
   "source": [
    "# Imports"
   ]
  },
  {
   "cell_type": "code",
   "execution_count": 2,
   "metadata": {},
   "outputs": [
    {
     "name": "stdout",
     "output_type": "stream",
     "text": [
      "Pyspark Script: /Users/martinmarvin/.pyenv/versions/venv-3.7.7/lib/python3.7/site-packages/ipykernel_launcher.py\n",
      "PySpark version: 3.0.1\n"
     ]
    }
   ],
   "source": [
    "import sys\n",
    "import pyspark\n",
    "import numpy as np\n",
    "import random\n",
    "import matplotlib.pyplot as plt\n",
    "from sklearn.metrics import multilabel_confusion_matrix\n",
    "\n",
    "\n",
    "print(\"Pyspark Script:\", sys.argv[0])\n",
    "print(\"PySpark version:\", pyspark.__version__)"
   ]
  },
  {
   "cell_type": "markdown",
   "metadata": {},
   "source": [
    "# Download MNIST Dataset from Keras"
   ]
  },
  {
   "cell_type": "code",
   "execution_count": 3,
   "metadata": {},
   "outputs": [],
   "source": [
    "from keras.datasets import mnist, fashion_mnist\n",
    "from keras.utils import np_utils\n",
    "\n",
    "# load MNIST\n",
    "(x_train, y_train), (x_test, y_test) = mnist.load_data()\n",
    "#(x_train, y_train), (x_test, y_test) = fashion_mnist.load_data() # For more fancy data use this\n",
    "\n",
    "# training data : 60000 samples\n",
    "# reshape and normalize input data\n",
    "x_train = x_train.reshape(x_train.shape[0], 1, 28*28)\n",
    "x_train = x_train.astype('float32')\n",
    "x_train /= 255\n",
    "# encode output which is a number in range [0,9] into a vector of size 10\n",
    "# e.g. number 3 will become [0, 0, 0, 1, 0, 0, 0, 0, 0, 0]\n",
    "y_train = np_utils.to_categorical(y_train)\n",
    "\n",
    "# same for test data : 10000 samples\n",
    "x_test = x_test.reshape(x_test.shape[0], 1, 28*28)\n",
    "x_test = x_test.astype('float32')\n",
    "x_test /= 255\n",
    "y_test = np_utils.to_categorical(y_test)\n",
    "\n",
    "\n",
    "np.savetxt('data/mnist_images_train.csv', x_train.reshape(len(x_train),784).tolist())\n",
    "np.savetxt('data/mnist_images_test.csv', x_test.reshape(len(x_test),784).tolist())\n",
    "np.savetxt('data/mnist_labels_train.csv', y_train.tolist())\n",
    "np.savetxt('data/mnist_labels_test.csv', y_test.tolist())"
   ]
  },
  {
   "cell_type": "markdown",
   "metadata": {},
   "source": [
    "# Load data"
   ]
  },
  {
   "cell_type": "code",
   "execution_count": 4,
   "metadata": {},
   "outputs": [],
   "source": [
    "txt_train_images = sc.textFile(\"data/mnist_images_train.csv\", 1)\n",
    "x_train = txt_train_images.map(lambda x : np.fromstring(x, dtype=float, sep=' ').reshape(1, 784)).zipWithIndex().map(lambda x: (str(x[1]), x[0]))\n",
    "\n",
    "txt_train_labels = sc.textFile(\"data/mnist_labels_train.csv\", 1)\n",
    "y_train = txt_train_labels.map(lambda x : np.fromstring(x, dtype=float, sep=' ').reshape(1, 10)).zipWithIndex().map(lambda x: (str(x[1]), x[0]))\n",
    "\n",
    "txt_test_images = sc.textFile(\"data/mnist_images_test.csv\", 1)\n",
    "x_test = txt_test_images.map(lambda x : np.fromstring(x, dtype=float, sep=' ').reshape(1, 784)).zipWithIndex().map(lambda x: (str(x[1]), x[0]))\n",
    "\n",
    "txt_test_labels = sc.textFile(\"data/mnist_labels_test.csv\", 1)\n",
    "y_test = txt_test_labels.map(lambda x : np.fromstring(x, dtype=float, sep=' ').reshape(1, 10)).zipWithIndex().map(lambda x: (str(x[1]), x[0]))"
   ]
  },
  {
   "cell_type": "code",
   "execution_count": 5,
   "metadata": {},
   "outputs": [
    {
     "name": "stdout",
     "output_type": "stream",
     "text": [
      "[(array([[0.        , 0.        , 0.        , 0.        , 0.        ,\n",
      "        0.        , 0.        , 0.        , 0.        , 0.        ,\n",
      "        0.        , 0.        , 0.        , 0.        , 0.        ,\n",
      "        0.        , 0.        , 0.        , 0.        , 0.        ,\n",
      "        0.        , 0.        , 0.        , 0.        , 0.        ,\n",
      "        0.        , 0.        , 0.        , 0.        , 0.        ,\n",
      "        0.        , 0.        , 0.        , 0.        , 0.        ,\n",
      "        0.        , 0.        , 0.        , 0.        , 0.        ,\n",
      "        0.        , 0.        , 0.        , 0.        , 0.        ,\n",
      "        0.        , 0.        , 0.        , 0.        , 0.        ,\n",
      "        0.        , 0.        , 0.        , 0.        , 0.        ,\n",
      "        0.        , 0.        , 0.        , 0.        , 0.        ,\n",
      "        0.        , 0.        , 0.        , 0.        , 0.        ,\n",
      "        0.        , 0.        , 0.        , 0.        , 0.        ,\n",
      "        0.        , 0.        , 0.        , 0.        , 0.        ,\n",
      "        0.        , 0.        , 0.        , 0.        , 0.        ,\n",
      "        0.        , 0.        , 0.        , 0.        , 0.        ,\n",
      "        0.        , 0.        , 0.        , 0.        , 0.        ,\n",
      "        0.        , 0.        , 0.        , 0.        , 0.        ,\n",
      "        0.        , 0.        , 0.        , 0.        , 0.        ,\n",
      "        0.        , 0.        , 0.        , 0.        , 0.        ,\n",
      "        0.        , 0.        , 0.        , 0.        , 0.        ,\n",
      "        0.        , 0.        , 0.        , 0.        , 0.        ,\n",
      "        0.        , 0.        , 0.        , 0.        , 0.        ,\n",
      "        0.        , 0.        , 0.        , 0.        , 0.        ,\n",
      "        0.        , 0.        , 0.        , 0.        , 0.        ,\n",
      "        0.        , 0.        , 0.        , 0.        , 0.        ,\n",
      "        0.        , 0.        , 0.        , 0.        , 0.        ,\n",
      "        0.        , 0.        , 0.        , 0.        , 0.        ,\n",
      "        0.        , 0.        , 0.        , 0.        , 0.        ,\n",
      "        0.        , 0.        , 0.        , 0.        , 0.69803923,\n",
      "        1.        , 0.41176471, 0.        , 0.        , 0.        ,\n",
      "        0.        , 0.        , 0.        , 0.        , 0.        ,\n",
      "        0.        , 0.        , 0.        , 0.        , 0.        ,\n",
      "        0.        , 0.        , 0.        , 0.        , 0.        ,\n",
      "        0.        , 0.        , 0.        , 0.        , 0.        ,\n",
      "        0.        , 0.02352941, 0.73725492, 0.99215686, 0.84705883,\n",
      "        0.05490196, 0.        , 0.        , 0.        , 0.        ,\n",
      "        0.        , 0.        , 0.        , 0.        , 0.        ,\n",
      "        0.        , 0.        , 0.        , 0.        , 0.        ,\n",
      "        0.        , 0.        , 0.        , 0.        , 0.        ,\n",
      "        0.        , 0.        , 0.        , 0.        , 0.05490196,\n",
      "        0.79215688, 0.99215686, 0.99215686, 0.09019608, 0.        ,\n",
      "        0.        , 0.        , 0.        , 0.        , 0.        ,\n",
      "        0.        , 0.        , 0.        , 0.        , 0.        ,\n",
      "        0.        , 0.        , 0.        , 0.        , 0.        ,\n",
      "        0.        , 0.        , 0.        , 0.        , 0.        ,\n",
      "        0.        , 0.        , 0.04705882, 0.78039217, 0.99215686,\n",
      "        0.50196081, 0.02352941, 0.        , 0.        , 0.        ,\n",
      "        0.        , 0.        , 0.        , 0.        , 0.        ,\n",
      "        0.        , 0.        , 0.        , 0.        , 0.        ,\n",
      "        0.        , 0.        , 0.        , 0.        , 0.        ,\n",
      "        0.        , 0.        , 0.        , 0.        , 0.        ,\n",
      "        0.16470589, 0.99215686, 0.99215686, 0.61960787, 0.        ,\n",
      "        0.        , 0.        , 0.        , 0.        , 0.        ,\n",
      "        0.        , 0.        , 0.        , 0.        , 0.        ,\n",
      "        0.        , 0.        , 0.        , 0.        , 0.        ,\n",
      "        0.        , 0.        , 0.        , 0.        , 0.        ,\n",
      "        0.        , 0.        , 0.        , 0.16470589, 0.99215686,\n",
      "        0.99215686, 0.61960787, 0.        , 0.        , 0.        ,\n",
      "        0.        , 0.        , 0.        , 0.        , 0.        ,\n",
      "        0.        , 0.        , 0.        , 0.        , 0.        ,\n",
      "        0.        , 0.        , 0.        , 0.        , 0.        ,\n",
      "        0.        , 0.        , 0.        , 0.        , 0.        ,\n",
      "        0.        , 0.60784316, 0.99215686, 0.99215686, 0.61960787,\n",
      "        0.        , 0.        , 0.        , 0.        , 0.        ,\n",
      "        0.        , 0.        , 0.        , 0.        , 0.        ,\n",
      "        0.        , 0.        , 0.        , 0.        , 0.        ,\n",
      "        0.        , 0.        , 0.        , 0.        , 0.        ,\n",
      "        0.        , 0.        , 0.        , 0.        , 0.627451  ,\n",
      "        0.99215686, 0.99215686, 0.57647061, 0.        , 0.        ,\n",
      "        0.        , 0.        , 0.        , 0.        , 0.        ,\n",
      "        0.        , 0.        , 0.        , 0.        , 0.        ,\n",
      "        0.        , 0.        , 0.        , 0.        , 0.        ,\n",
      "        0.        , 0.        , 0.        , 0.        , 0.        ,\n",
      "        0.        , 0.        , 0.627451  , 0.99215686, 0.99215686,\n",
      "        0.16078432, 0.        , 0.        , 0.        , 0.        ,\n",
      "        0.        , 0.        , 0.        , 0.        , 0.        ,\n",
      "        0.        , 0.        , 0.        , 0.        , 0.        ,\n",
      "        0.        , 0.        , 0.        , 0.        , 0.        ,\n",
      "        0.        , 0.        , 0.        , 0.        , 0.06666667,\n",
      "        0.88235295, 0.99215686, 0.92156863, 0.12156863, 0.        ,\n",
      "        0.        , 0.        , 0.        , 0.        , 0.        ,\n",
      "        0.        , 0.        , 0.        , 0.        , 0.        ,\n",
      "        0.        , 0.        , 0.        , 0.        , 0.        ,\n",
      "        0.        , 0.        , 0.        , 0.        , 0.        ,\n",
      "        0.        , 0.        , 0.09411765, 0.99215686, 0.99215686,\n",
      "        0.6901961 , 0.        , 0.        , 0.        , 0.        ,\n",
      "        0.        , 0.        , 0.        , 0.        , 0.        ,\n",
      "        0.        , 0.        , 0.        , 0.        , 0.        ,\n",
      "        0.        , 0.        , 0.        , 0.        , 0.        ,\n",
      "        0.        , 0.        , 0.        , 0.        , 0.        ,\n",
      "        0.09411765, 0.99215686, 0.99215686, 0.6901961 , 0.        ,\n",
      "        0.        , 0.        , 0.        , 0.        , 0.        ,\n",
      "        0.        , 0.        , 0.        , 0.        , 0.        ,\n",
      "        0.        , 0.        , 0.        , 0.        , 0.        ,\n",
      "        0.        , 0.        , 0.        , 0.        , 0.        ,\n",
      "        0.        , 0.        , 0.        , 0.09411765, 0.99215686,\n",
      "        0.99215686, 0.6901961 , 0.        , 0.        , 0.        ,\n",
      "        0.        , 0.        , 0.        , 0.        , 0.        ,\n",
      "        0.        , 0.        , 0.        , 0.        , 0.        ,\n",
      "        0.        , 0.        , 0.        , 0.        , 0.        ,\n",
      "        0.        , 0.        , 0.        , 0.        , 0.        ,\n",
      "        0.        , 0.09411765, 0.99215686, 0.99215686, 0.6901961 ,\n",
      "        0.        , 0.        , 0.        , 0.        , 0.        ,\n",
      "        0.        , 0.        , 0.        , 0.        , 0.        ,\n",
      "        0.        , 0.        , 0.        , 0.        , 0.        ,\n",
      "        0.        , 0.        , 0.        , 0.        , 0.        ,\n",
      "        0.        , 0.        , 0.        , 0.        , 0.09411765,\n",
      "        0.99215686, 0.99215686, 0.63529414, 0.        , 0.        ,\n",
      "        0.        , 0.        , 0.        , 0.        , 0.        ,\n",
      "        0.        , 0.        , 0.        , 0.        , 0.        ,\n",
      "        0.        , 0.        , 0.        , 0.        , 0.        ,\n",
      "        0.        , 0.        , 0.        , 0.        , 0.        ,\n",
      "        0.        , 0.        , 0.18039216, 0.99215686, 0.99215686,\n",
      "        0.23137255, 0.        , 0.        , 0.        , 0.        ,\n",
      "        0.        , 0.        , 0.        , 0.        , 0.        ,\n",
      "        0.        , 0.        , 0.        , 0.        , 0.        ,\n",
      "        0.        , 0.        , 0.        , 0.        , 0.        ,\n",
      "        0.        , 0.        , 0.        , 0.        , 0.        ,\n",
      "        0.55686277, 0.99215686, 0.99215686, 0.23137255, 0.        ,\n",
      "        0.        , 0.        , 0.        , 0.        , 0.        ,\n",
      "        0.        , 0.        , 0.        , 0.        , 0.        ,\n",
      "        0.        , 0.        , 0.        , 0.        , 0.        ,\n",
      "        0.        , 0.        , 0.        , 0.        , 0.        ,\n",
      "        0.        , 0.        , 0.        , 0.55686277, 0.99215686,\n",
      "        0.99215686, 0.23137255, 0.        , 0.        , 0.        ,\n",
      "        0.        , 0.        , 0.        , 0.        , 0.        ,\n",
      "        0.        , 0.        , 0.        , 0.        , 0.        ,\n",
      "        0.        , 0.        , 0.        , 0.        , 0.        ,\n",
      "        0.        , 0.        , 0.        , 0.        , 0.        ,\n",
      "        0.        , 0.55686277, 0.99215686, 0.79215688, 0.03137255,\n",
      "        0.        , 0.        , 0.        , 0.        , 0.        ,\n",
      "        0.        , 0.        , 0.        , 0.        , 0.        ,\n",
      "        0.        , 0.        , 0.        , 0.        , 0.        ,\n",
      "        0.        , 0.        , 0.        , 0.        , 0.        ,\n",
      "        0.        , 0.        , 0.        , 0.        , 0.34117648,\n",
      "        0.99215686, 0.54509807, 0.        , 0.        , 0.        ,\n",
      "        0.        , 0.        , 0.        , 0.        , 0.        ,\n",
      "        0.        , 0.        , 0.        , 0.        , 0.        ,\n",
      "        0.        , 0.        , 0.        , 0.        , 0.        ,\n",
      "        0.        , 0.        , 0.        , 0.        , 0.        ,\n",
      "        0.        , 0.        , 0.        , 0.        , 0.        ,\n",
      "        0.        , 0.        , 0.        , 0.        , 0.        ,\n",
      "        0.        , 0.        , 0.        , 0.        , 0.        ,\n",
      "        0.        , 0.        , 0.        , 0.        , 0.        ,\n",
      "        0.        , 0.        , 0.        , 0.        , 0.        ,\n",
      "        0.        , 0.        , 0.        , 0.        , 0.        ,\n",
      "        0.        , 0.        , 0.        , 0.        , 0.        ,\n",
      "        0.        , 0.        , 0.        , 0.        , 0.        ,\n",
      "        0.        , 0.        , 0.        , 0.        , 0.        ,\n",
      "        0.        , 0.        , 0.        , 0.        , 0.        ,\n",
      "        0.        , 0.        , 0.        , 0.        , 0.        ,\n",
      "        0.        , 0.        , 0.        , 0.        , 0.        ,\n",
      "        0.        , 0.        , 0.        , 0.        , 0.        ,\n",
      "        0.        , 0.        , 0.        , 0.        , 0.        ,\n",
      "        0.        , 0.        , 0.        , 0.        ]]), array([[0., 1., 0., 0., 0., 0., 0., 0., 0., 0.]]))]\n"
     ]
    }
   ],
   "source": [
    "train_rdd = x_train.join(y_train).map(lambda x: x[1])\n",
    "test_rdd = x_test.join(y_test).map(lambda x: x[1])\n",
    "train_rdd.cache()\n",
    "\n",
    "print(train_rdd.take(1))"
   ]
  },
  {
   "cell_type": "markdown",
   "metadata": {},
   "source": [
    "# Functions"
   ]
  },
  {
   "cell_type": "markdown",
   "metadata": {},
   "source": [
    "## Activation Function"
   ]
  },
  {
   "cell_type": "code",
   "execution_count": 6,
   "metadata": {},
   "outputs": [],
   "source": [
    "# General function to apply any activation function\n",
    "def activation(x, f):\n",
    "    return f(x)\n",
    "\n",
    "# Sigmoid Activation function\n",
    "def sigmoid(X):\n",
    "    return 1 / (1 + np.exp(-X))\n",
    "\n",
    "# Sigmoid prime function (used for backward prop)\n",
    "def sigmoid_prime(x):\n",
    "    sig = sigmoid(x)\n",
    "    return sig * (1 - sig)\n",
    "\n",
    "# Hyperbolic Tangent Activation function\n",
    "def tanh(x):\n",
    "    return np.tanh(x);\n",
    "\n",
    "# Hyperbolic Tangent prime function (used for backward prop)\n",
    "def tanh_prime(x):\n",
    "    return 1-np.tanh(x)**2"
   ]
  },
  {
   "cell_type": "markdown",
   "metadata": {},
   "source": [
    "## Forward Propagation"
   ]
  },
  {
   "cell_type": "code",
   "execution_count": 7,
   "metadata": {},
   "outputs": [],
   "source": [
    "# Compute the layer propagation before activation\n",
    "def preforward(x, w, b):\n",
    "    return np.dot(x, w) + b\n",
    "\n",
    "# Compute the layer propagation after activation\n",
    "# This is also equivalent to a predict function once model is trained\n",
    "def predict(x, W1, B1, W2, B2):\n",
    "    return sigmoid(preforward(sigmoid(preforward(x , W1, B1)), W2, B2))"
   ]
  },
  {
   "cell_type": "markdown",
   "metadata": {},
   "source": [
    "## Backward Propagation"
   ]
  },
  {
   "cell_type": "code",
   "execution_count": 8,
   "metadata": {},
   "outputs": [],
   "source": [
    "# Compute the derivative of the error regarding B2\n",
    "def derivativeB2(y_pred, y_true, y_h, f_prime):\n",
    "    return (y_pred - y_true) * f_prime(y_h)\n",
    "\n",
    "# Compute the derivative of the error regarding W2\n",
    "def derivativeW2(h, dB2):\n",
    "    return np.dot(h.T, dB2)\n",
    "\n",
    "# Compute the derivative of the error regarding B1\n",
    "def derivativeB1(h_h, dB2, W2, f_prime):\n",
    "    return np.dot(dB2, W2.T) * f_prime(h_h)\n",
    "\n",
    "# Compute the derivative of the error regarding W1\n",
    "def derivativeW1(x, dB1):\n",
    "    return np.dot(x.T, dB1)"
   ]
  },
  {
   "cell_type": "markdown",
   "metadata": {},
   "source": [
    "## Evaluation"
   ]
  },
  {
   "cell_type": "code",
   "execution_count": 9,
   "metadata": {},
   "outputs": [],
   "source": [
    "def get_metrics(pred, true):\n",
    "    cm = multilabel_confusion_matrix(true, pred)\n",
    "    return (cm)\n",
    "\n",
    "# Cost function\n",
    "def sse(y_pred, y_true):\n",
    "    return 0.5 * np.sum(np.power(y_pred - y_true, 2))"
   ]
  },
  {
   "cell_type": "markdown",
   "metadata": {},
   "source": [
    "# Training (Mini Batch Implementation)"
   ]
  },
  {
   "cell_type": "code",
   "execution_count": 10,
   "metadata": {},
   "outputs": [
    {
     "name": "stdout",
     "output_type": "stream",
     "text": [
      "Start Training Loop:\n",
      "   Epoch 1/100 | Cost: 1.392479825485013 | Acc: 13.712693232975251 | Batchsize:41983\n",
      "   Epoch 2/100 | Cost: 1.2709083195445854 | Acc: 14.169982606209345 | Batchsize:41969\n",
      "   Epoch 3/100 | Cost: 1.1598964823231612 | Acc: 14.212642447600695 | Batchsize:42033\n",
      "   Epoch 4/100 | Cost: 1.0527711636080355 | Acc: 14.689696247766529 | Batchsize:41975\n",
      "   Epoch 5/100 | Cost: 0.9579163912914371 | Acc: 15.033177158893618 | Batchsize:42047\n",
      "   Epoch 6/100 | Cost: 0.8751789122845879 | Acc: 15.423016290068315 | Batchsize:41866\n",
      "   Epoch 7/100 | Cost: 0.8042386120910752 | Acc: 15.561248695322135 | Batchsize:42156\n",
      "   Epoch 8/100 | Cost: 0.7427982740058269 | Acc: 16.137169510482856 | Batchsize:42021\n",
      "   Epoch 9/100 | Cost: 0.6935086326648642 | Acc: 16.52598950882213 | Batchsize:41940\n",
      "   Epoch 10/100 | Cost: 0.6512268274366569 | Acc: 16.979603507434234 | Batchsize:41968\n",
      "   Epoch 11/100 | Cost: 0.6181664660304229 | Acc: 17.494095418044402 | Batchsize:42340\n",
      "   Epoch 12/100 | Cost: 0.5903162326277949 | Acc: 17.851858922350022 | Batchsize:41906\n",
      "   Epoch 13/100 | Cost: 0.567201172428274 | Acc: 18.34803337306317 | Batchsize:41950\n",
      "   Epoch 14/100 | Cost: 0.5462961805477624 | Acc: 19.094469385805713 | Batchsize:41876\n",
      "   Epoch 15/100 | Cost: 0.5305448007883472 | Acc: 19.231136352789576 | Batchsize:41906\n",
      "   Epoch 16/100 | Cost: 0.5180260304549139 | Acc: 19.63907843743313 | Batchsize:42059\n",
      "   Epoch 17/100 | Cost: 0.5056431175654961 | Acc: 20.366361365528725 | Batchsize:42035\n",
      "   Epoch 18/100 | Cost: 0.4960165910027775 | Acc: 20.831545320173557 | Batchsize:41946\n",
      "   Epoch 19/100 | Cost: 0.48750510527603264 | Acc: 21.316748874115376 | Batchsize:41967\n",
      "   Epoch 20/100 | Cost: 0.4795322154298188 | Acc: 22.004780046853924 | Batchsize:42259\n",
      "   Epoch 21/100 | Cost: 0.4735018702538182 | Acc: 22.465303401813983 | Batchsize:42007\n",
      "   Epoch 22/100 | Cost: 0.4670652616155754 | Acc: 23.018903726192452 | Batchsize:42161\n",
      "   Epoch 23/100 | Cost: 0.46062963842072896 | Acc: 24.160578730695097 | Batchsize:42023\n",
      "   Epoch 24/100 | Cost: 0.45606229123794806 | Acc: 24.881971957960666 | Batchsize:42151\n",
      "   Epoch 25/100 | Cost: 0.45154410891125263 | Acc: 25.622590639264008 | Batchsize:42283\n",
      "   Epoch 26/100 | Cost: 0.445704936883535 | Acc: 26.784778777920653 | Batchsize:41994\n",
      "   Epoch 27/100 | Cost: 0.442040309079166 | Acc: 27.825567502986857 | Batchsize:41850\n",
      "   Epoch 28/100 | Cost: 0.43550172634240875 | Acc: 29.21607299859801 | Batchsize:42083\n",
      "   Epoch 29/100 | Cost: 0.4313825290950247 | Acc: 30.388532449257045 | Batchsize:41927\n",
      "   Epoch 30/100 | Cost: 0.42723443989908594 | Acc: 31.414410979794127 | Batchsize:41968\n",
      "   Epoch 31/100 | Cost: 0.4211145593201718 | Acc: 32.73426556824387 | Batchsize:42121\n",
      "   Epoch 32/100 | Cost: 0.41604491802742216 | Acc: 33.82825326575773 | Batchsize:42027\n",
      "   Epoch 33/100 | Cost: 0.41111993136620967 | Acc: 34.798848523778936 | Batchsize:42033\n",
      "   Epoch 34/100 | Cost: 0.4054772646456548 | Acc: 35.81234332099797 | Batchsize:41885\n",
      "   Epoch 35/100 | Cost: 0.4000159244113847 | Acc: 36.71225720662962 | Batchsize:42114\n",
      "   Epoch 36/100 | Cost: 0.39554693907066346 | Acc: 37.46897670866743 | Batchsize:41904\n",
      "   Epoch 37/100 | Cost: 0.3907322533836154 | Acc: 38.18082139537101 | Batchsize:41953\n",
      "   Epoch 38/100 | Cost: 0.38725394505722655 | Acc: 38.90829590551556 | Batchsize:42081\n",
      "   Epoch 39/100 | Cost: 0.3830670560707599 | Acc: 39.62318149296446 | Batchsize:41930\n",
      "   Epoch 40/100 | Cost: 0.3800264762652367 | Acc: 40.08028481995651 | Batchsize:41851\n",
      "   Epoch 41/100 | Cost: 0.3756138226208802 | Acc: 40.98134399390824 | Batchsize:42024\n",
      "   Epoch 42/100 | Cost: 0.37159550771789795 | Acc: 41.64590917800345 | Batchsize:41752\n",
      "   Epoch 43/100 | Cost: 0.36881048705757613 | Acc: 42.31744058151212 | Batchsize:41822\n",
      "   Epoch 44/100 | Cost: 0.3665009560685176 | Acc: 42.533731343283584 | Batchsize:41875\n",
      "   Epoch 45/100 | Cost: 0.36152203809949596 | Acc: 43.57647952161739 | Batchsize:42142\n",
      "   Epoch 46/100 | Cost: 0.35776824085887354 | Acc: 44.221081532768295 | Batchsize:41885\n",
      "   Epoch 47/100 | Cost: 0.3557062163785748 | Acc: 44.734322642412636 | Batchsize:41780\n",
      "   Epoch 48/100 | Cost: 0.3507631741740961 | Acc: 45.69696101601852 | Batchsize:41889\n",
      "   Epoch 49/100 | Cost: 0.3476089748379089 | Acc: 46.29612132092408 | Batchsize:42334\n",
      "   Epoch 50/100 | Cost: 0.34488795929272853 | Acc: 46.89252114416041 | Batchsize:42092\n",
      "   Epoch 51/100 | Cost: 0.3402920113549543 | Acc: 47.91671641078293 | Batchsize:41881\n",
      "   Epoch 52/100 | Cost: 0.33739246697911784 | Acc: 48.57420993897951 | Batchsize:42117\n",
      "   Epoch 53/100 | Cost: 0.33329430571069696 | Acc: 49.32106358819077 | Batchsize:42272\n",
      "   Epoch 54/100 | Cost: 0.3290693864083146 | Acc: 50.317851890507136 | Batchsize:42158\n",
      "   Epoch 55/100 | Cost: 0.32680618797028527 | Acc: 50.717748610618415 | Batchsize:42285\n",
      "   Epoch 56/100 | Cost: 0.3231529901312612 | Acc: 51.56681588722736 | Batchsize:41996\n",
      "   Epoch 57/100 | Cost: 0.3183084182758114 | Acc: 52.59966579135832 | Batchsize:41890\n",
      "   Epoch 58/100 | Cost: 0.3151352185608193 | Acc: 53.42660997220705 | Batchsize:42097\n",
      "   Epoch 59/100 | Cost: 0.309731110174884 | Acc: 54.676824187596715 | Batchsize:42005\n",
      "   Epoch 60/100 | Cost: 0.30513382034263625 | Acc: 55.77920386464278 | Batchsize:42229\n",
      "   Epoch 61/100 | Cost: 0.30206054185246684 | Acc: 56.65516831212085 | Batchsize:42035\n",
      "   Epoch 62/100 | Cost: 0.29612601949771694 | Acc: 57.988348591130666 | Batchsize:42055\n",
      "   Epoch 63/100 | Cost: 0.2907530218083204 | Acc: 59.22240167205016 | Batchsize:42104\n",
      "   Epoch 64/100 | Cost: 0.2846770813677093 | Acc: 60.5931800911854 | Batchsize:42112\n",
      "   Epoch 65/100 | Cost: 0.2774353984738403 | Acc: 62.32729871367317 | Batchsize:41980\n",
      "   Epoch 66/100 | Cost: 0.27309540944090516 | Acc: 63.26545126952894 | Batchsize:42181\n",
      "   Epoch 67/100 | Cost: 0.26584509112579874 | Acc: 64.86171276241252 | Batchsize:42014\n",
      "   Epoch 68/100 | Cost: 0.2586062725217404 | Acc: 66.4944403438177 | Batchsize:41999\n",
      "   Epoch 69/100 | Cost: 0.2523602880654527 | Acc: 67.74578333373094 | Batchsize:41917\n",
      "   Epoch 70/100 | Cost: 0.24525924827445997 | Acc: 69.09359300969025 | Batchsize:42001\n",
      "   Epoch 71/100 | Cost: 0.23973408218632664 | Acc: 69.9692762045395 | Batchsize:41987\n",
      "   Epoch 72/100 | Cost: 0.23328111895380743 | Acc: 71.25936496610774 | Batchsize:42045\n",
      "   Epoch 73/100 | Cost: 0.22632846865657433 | Acc: 72.3039743497715 | Batchsize:41793\n",
      "   Epoch 74/100 | Cost: 0.2226771382881703 | Acc: 72.98466658742423 | Batchsize:42065\n",
      "   Epoch 75/100 | Cost: 0.21605192879321022 | Acc: 74.0293684360595 | Batchsize:42086\n",
      "   Epoch 76/100 | Cost: 0.21111623040483002 | Acc: 74.6216254685202 | Batchsize:42154\n",
      "   Epoch 77/100 | Cost: 0.20507764667557304 | Acc: 75.74150274718741 | Batchsize:42043\n",
      "   Epoch 78/100 | Cost: 0.20049177214690586 | Acc: 76.42860552823794 | Batchsize:41894\n",
      "   Epoch 79/100 | Cost: 0.19579597931204895 | Acc: 77.1595238095238 | Batchsize:42000\n",
      "   Epoch 80/100 | Cost: 0.1920501967754352 | Acc: 77.6129016866665 | Batchsize:41917\n",
      "   Epoch 81/100 | Cost: 0.18824380901349677 | Acc: 78.05103638002183 | Batchsize:42166\n",
      "   Epoch 82/100 | Cost: 0.1829093290468142 | Acc: 78.97644733395252 | Batchsize:41991\n",
      "   Epoch 83/100 | Cost: 0.17861850015419142 | Acc: 79.44379849559832 | Batchsize:42143\n",
      "   Epoch 84/100 | Cost: 0.17614521241392733 | Acc: 79.78116079923882 | Batchsize:42040\n",
      "   Epoch 85/100 | Cost: 0.1731993668400482 | Acc: 80.05428054471004 | Batchsize:42004\n",
      "   Epoch 86/100 | Cost: 0.17306487763273473 | Acc: 80.3346184968347 | Batchsize:42018\n",
      "   Epoch 87/100 | Cost: 0.18261300506410028 | Acc: 77.82428768491651 | Batchsize:42046\n",
      "   Epoch 88/100 | Cost: 0.16572115881209698 | Acc: 80.7069463516265 | Batchsize:42238\n",
      "   Epoch 89/100 | Cost: 0.16005785620620147 | Acc: 81.9083642592064 | Batchsize:42036\n",
      "   Epoch 90/100 | Cost: 0.1583750017179183 | Acc: 82.07585401320652 | Batchsize:41949\n",
      "   Epoch 91/100 | Cost: 0.15715396267429385 | Acc: 82.11581503881136 | Batchsize:41998\n",
      "   Epoch 92/100 | Cost: 0.15461711309841855 | Acc: 82.50053511546602 | Batchsize:42047\n",
      "   Epoch 93/100 | Cost: 0.1535774959541602 | Acc: 82.62051208696896 | Batchsize:41946\n",
      "   Epoch 94/100 | Cost: 0.15176346493333678 | Acc: 82.78056076541392 | Batchsize:42121\n",
      "   Epoch 95/100 | Cost: 0.1505277171793755 | Acc: 83.04029391416371 | Batchsize:41917\n"
     ]
    },
    {
     "name": "stdout",
     "output_type": "stream",
     "text": [
      "   Epoch 96/100 | Cost: 0.14892911589274416 | Acc: 83.18267464879433 | Batchsize:41927\n",
      "   Epoch 97/100 | Cost: 0.14674058805977502 | Acc: 83.45868229376735 | Batchsize:42149\n",
      "   Epoch 98/100 | Cost: 0.14583249171843085 | Acc: 83.52737122220111 | Batchsize:42088\n",
      "   Epoch 99/100 | Cost: 0.1430689268833265 | Acc: 83.93187972067835 | Batchsize:42102\n",
      "   Epoch 100/100 | Cost: 0.1409441712676419 | Acc: 84.25936942296252 | Batchsize:42025\n",
      "Training end..\n"
     ]
    },
    {
     "data": {
      "image/png": "[encoded data removed]",
      "text/plain": [
       "<Figure size 432x288 with 1 Axes>"
      ]
     },
     "metadata": {
      "needs_background": "light"
     },
     "output_type": "display_data"
    },
    {
     "data": {
      "image/png": "[encoded data removed]",
      "text/plain": [
       "<Figure size 432x288 with 1 Axes>"
      ]
     },
     "metadata": {
      "needs_background": "light"
     },
     "output_type": "display_data"
    }
   ],
   "source": [
    "# Hyperparameters\n",
    "num_iteration = 100\n",
    "learningRate = 0.1\n",
    "\n",
    "input_layer = 784 # number of neurones in the input layer (equal to image size)\n",
    "hidden_layer = 64 # number of neurones in the hidden layer (Custom)\n",
    "output_layer = 10 # number of neurones in the output layer (equal to the number of possible labels)\n",
    "\n",
    "\n",
    "# Paramater Initialization\n",
    "W1 = np.random.rand(input_layer, hidden_layer) - 0.5 # Shape (784, 64)\n",
    "W2 = np.random.rand(hidden_layer, output_layer) - 0.5 # Shape (64, 10)\n",
    "B1 = np.random.rand(1, hidden_layer) - 0.5 # Shape (1, 64)\n",
    "B2 = np.random.rand(1, output_layer) - 0.5 # Shape (1, 10)\n",
    "\n",
    "# History over epochs\n",
    "cost_history = []\n",
    "acc_history = []\n",
    "\n",
    "# Epoch Loop (mini batch implementation)\n",
    "print(\"Start Training Loop:\")\n",
    "\n",
    "for i in range(num_iteration):\n",
    "    \n",
    "    # Compute gradients, cost and accuracy over mini batch \n",
    "    \n",
    "    ################## Notations ######################\n",
    "    # x -> Input Image flatten of shape (1, 784)\n",
    "    # y* -> One hot label of shape (1, 10)\n",
    "    # h^ -> Forward prop from Input layer to hidden layer before activation (1, 64) using W1, B1 parm\n",
    "    # h -> Forward prop from Input layer to hidden layer after tanh activation (1, 64)\n",
    "    # y^ -> Forward prop from hidden layer to output layer before activation (1, 10) using W2, B2 parm\n",
    "    # y -> Forward prop from hidden layer to output layer after sigmoid activation (1, 10)\n",
    "    # E -> Error between y and y* using SSE\n",
    "    # Acc -> 1 is right prediction 0 otherwise\n",
    "    # DE/D? -> Partial derivative of the Error regarding parmaters (B2, W2, B1, W1)\n",
    "    \n",
    "    \n",
    "    ################# Forward Prop ######################\n",
    "    # map batch ([x], [y*]) to ([x], [h^],[y*])\n",
    "    # map batch ([x], [h^],[y*]) to ([x], [h^], [h], [y*])\n",
    "    # map batch ([x], [h^], [h], [y*]) to ([x], [h^], [h], [y^], [y*])\n",
    "    # map batch ([x], [h^], [h], [y^], [y*]) to ([x], [h^], [h], [y^], [y], [y*])\n",
    "    ################# Backward Prop #####################\n",
    "    # map batch ([x], [h^], [h], [y^], [y], [y*]) to ([x], [h^], [h], [E], [DE/DB2], [Acc])\n",
    "    # map batch ([x], [h^], [h], [E], [DE/DB2], [Acc]) to ([x], [h^], [E], [DE/DB2], [DE/DW2], [Acc])\n",
    "    # map batch ([x], [h^], [E], [DE/DB2], [DE/DW2], [Acc]) to ([x], [E], [DE/DB2], [DE/DW2], [DE/DB1], [Acc])\n",
    "    # map batch ([x], [E], [DE/DB2], [DE/DW2], [DE/DB1], [Acc]) to ([E], [DE/DB2], [DE/DW2], [DE/DB1], [DE/DW1],[Acc])\n",
    "    ############### Reduce over the mini batch #########\n",
    "\n",
    "\n",
    "    gradientCostAcc = train_rdd\\\n",
    "                        .sample(False,0.7)\\\n",
    "                        .map(lambda x: (x[0], preforward(x[0], W1, B1), x[1]))\\\n",
    "                        .map(lambda x: (x[0], x[1], activation(x[1], tanh), x[2]))\\\n",
    "                        .map(lambda x: (x[0], x[1], x[2], preforward(x[2], W2, B2), x[3]))\\\n",
    "                        .map(lambda x: (x[0], x[1], x[2], x[3], activation(x[3], sigmoid), x[4]))\\\n",
    "                        .map(lambda x: (x[0], x[1], x[2], sse(x[4], x[5]), derivativeB2(x[4], x[5], x[3], sigmoid_prime), int(np.argmax(x[4]) == np.argmax(x[5]))))\\\n",
    "                        .map(lambda x: (x[0], x[1], x[3], x[4],  derivativeW2(x[2], x[4]) ,x[5]))\\\n",
    "                        .map(lambda x: (x[0], x[2], x[3], x[4],  derivativeB1(x[1],  x[3], W2, tanh_prime) ,x[5]))\\\n",
    "                        .map(lambda x: (x[1], x[2], x[3], x[4], derivativeW1(x[0], x[4]) ,x[5], 1)) \\\n",
    "                        .reduce(lambda x, y: (x[0] + y[0], x[1] + y[1], x[2] + y[2], x[3] + y[3], x[4] + y[4], x[5] + y[5], x[6] + y[6]))\n",
    "\n",
    "    # Cost and Accuarcy of the mini batch\n",
    "    n = gradientCostAcc[-1] # number of images in the mini batch\n",
    "    cost = gradientCostAcc[0]/n # Cost over the mini batch\n",
    "    acc = gradientCostAcc[5]/n # Accuarcy over the mini batch\n",
    "    \n",
    "     # Add to history\n",
    "    cost_history.append(cost)\n",
    "    acc_history.append(acc)\n",
    "    \n",
    "    # Bold Driver technique to dynamically change the learning rate\n",
    "    if len(cost_history) > 1:\n",
    "        if cost_history[i] < cost_history[i-1]:\n",
    "            learningRate *= 1.05 #Better than last time\n",
    "        else:\n",
    "            learningRate *= 0.5 #Worse than last time\n",
    "    \n",
    "    # Extract gradiends\n",
    "    DB2 = gradientCostAcc[1]/n\n",
    "    DW2 = gradientCostAcc[2]/n\n",
    "    DB1 = gradientCostAcc[3]/n\n",
    "    DW1 = gradientCostAcc[4]/n\n",
    "            \n",
    "    # Update parameter with new learning rate and gradients using Gradient Descent\n",
    "    B2 -= learningRate * DB2\n",
    "    W2 -= learningRate * DW2\n",
    "    B1 -= learningRate * DB1\n",
    "    W1 -= learningRate * DW1\n",
    "\n",
    "    # Display performances\n",
    "    print(f\"   Epoch {i+1}/{num_iteration} | Cost: {cost_history[i]} | Acc: {acc_history[i]*100} | Batchsize:{n}\")\n",
    "\n",
    "print(\"Training end..\")\n",
    "\n",
    "# Plot of cost over epochs\n",
    "plt.subplot(2, 1, 1)\n",
    "plt.plot(cost_history)\n",
    "plt.show()\n",
    "\n",
    "# Plot of accuracy over epochs\n",
    "plt.subplot(2, 1, 2)\n",
    "plt.plot(acc_history)\n",
    "plt.show()"
   ]
  },
  {
   "cell_type": "markdown",
   "metadata": {},
   "source": [
    "# Test Evaluation"
   ]
  },
  {
   "cell_type": "code",
   "execution_count": 11,
   "metadata": {},
   "outputs": [
    {
     "name": "stdout",
     "output_type": "stream",
     "text": [
      "\n",
      "---- Digit 0 ------\n",
      "\n",
      "TP: 962 FP: 531 FN: 18 TN: 8489\n",
      "\n",
      "Precision : 0.6443402540895242\n",
      "Recall: 0.9816326520595585\n",
      "F1 score: 0.7780019470898399\n",
      "\n",
      "---- Digit 1 ------\n",
      "\n",
      "TP: 1011 FP: 12 FN: 124 TN: 8853\n",
      "\n",
      "Precision : 0.988269793755357\n",
      "Recall: 0.8907488978936132\n",
      "F1 score: 0.9369781844453244\n",
      "\n",
      "---- Digit 2 ------\n",
      "\n",
      "TP: 577 FP: 11 FN: 455 TN: 8957\n",
      "\n",
      "Precision : 0.9812925153379379\n",
      "Recall: 0.5591085265900111\n",
      "F1 score: 0.7123452156915058\n",
      "\n",
      "---- Digit 3 ------\n",
      "\n",
      "TP: 754 FP: 102 FN: 256 TN: 8888\n",
      "\n",
      "Precision : 0.8808411204663071\n",
      "Recall: 0.7465346527262033\n",
      "F1 score: 0.8081452688848058\n",
      "\n",
      "---- Digit 4 ------\n",
      "\n",
      "TP: 915 FP: 661 FN: 67 TN: 8357\n",
      "\n",
      "Precision : 0.5805837559767869\n",
      "Recall: 0.9317718931448351\n",
      "F1 score: 0.7154021847291463\n",
      "\n",
      "---- Digit 5 ------\n",
      "\n",
      "TP: 15 FP: 0 FN: 877 TN: 9108\n",
      "\n",
      "Precision : 0.9999999333333378\n",
      "Recall: 0.016816143478905667\n",
      "F1 score: 0.03307604237046982\n",
      "\n",
      "---- Digit 6 ------\n",
      "\n",
      "TP: 875 FP: 246 FN: 83 TN: 8796\n",
      "\n",
      "Precision : 0.7805530769129767\n",
      "Recall: 0.9133611681488923\n",
      "F1 score: 0.8417503440148915\n",
      "\n",
      "---- Digit 7 ------\n",
      "\n",
      "TP: 972 FP: 721 FN: 56 TN: 8251\n",
      "\n",
      "Precision : 0.5741287651659015\n",
      "Recall: 0.945525290909022\n",
      "F1 score: 0.7144427487443734\n",
      "\n",
      "---- Digit 8 ------\n",
      "\n",
      "TP: 4 FP: 0 FN: 970 TN: 9026\n",
      "\n",
      "Precision : 0.9999997500000625\n",
      "Recall: 0.00410677617648175\n",
      "F1 score: 0.008179950936979435\n",
      "\n",
      "---- Digit 9 ------\n",
      "\n",
      "TP: 240 FP: 12 FN: 769 TN: 8979\n",
      "\n",
      "Precision : 0.9523809486016629\n",
      "Recall: 0.23785926636485702\n",
      "F1 score: 0.38064995714441\n"
     ]
    }
   ],
   "source": [
    "# Use the trained model over the Testset and get Confusion matrix per class\n",
    "metrics = test_rdd.map(lambda x: get_metrics(np.round(predict(x[0], W1, B1, W2, B2)), x[1]))\\\n",
    "                  .reduce(lambda x, y: x + y)\n",
    "\n",
    "# For each class give TP, FP, FN, TN and precision, and recall, and F1 score\n",
    "for label, label_metrics in enumerate(metrics):\n",
    "    \n",
    "    print(f\"\\n---- Digit {label} ------\\n\")\n",
    "    tn, fp, fn, tp = label_metrics.ravel()\n",
    "    print(\"TP:\", tp, \"FP:\", fp, \"FN:\", fn, \"TN:\", tn)\n",
    "\n",
    "    precision = tp / (tp + fp + 0.000001)\n",
    "    print(f\"\\nPrecision : {precision}\")\n",
    "\n",
    "    recall = tp / (tp + fn + 0.000001)\n",
    "    print(f\"Recall: {recall}\")\n",
    "\n",
    "    F1 = 2 * (precision * recall) / (precision + recall + 0.000001)\n",
    "    print(f\"F1 score: {F1}\")"
   ]
  },
  {
   "cell_type": "code",
   "execution_count": 12,
   "metadata": {
    "scrolled": false
   },
   "outputs": [
    {
     "name": "stdout",
     "output_type": "stream",
     "text": [
      "pred: 3, prob: 0.34 true: 8\n"
     ]
    },
    {
     "data": {
      "image/png": "[encoded data removed]",
      "text/plain": [
       "<Figure size 432x288 with 1 Axes>"
      ]
     },
     "metadata": {
      "needs_background": "light"
     },
     "output_type": "display_data"
    },
    {
     "name": "stdout",
     "output_type": "stream",
     "text": [
      "pred: 4, prob: 0.73 true: 4\n"
     ]
    },
    {
     "data": {
      "image/png": "[encoded data removed]",
      "text/plain": [
       "<Figure size 432x288 with 1 Axes>"
      ]
     },
     "metadata": {
      "needs_background": "light"
     },
     "output_type": "display_data"
    },
    {
     "name": "stdout",
     "output_type": "stream",
     "text": [
      "pred: 6, prob: 0.93 true: 6\n"
     ]
    },
    {
     "data": {
      "image/png": "[encoded data removed]",
      "text/plain": [
       "<Figure size 432x288 with 1 Axes>"
      ]
     },
     "metadata": {
      "needs_background": "light"
     },
     "output_type": "display_data"
    },
    {
     "name": "stdout",
     "output_type": "stream",
     "text": [
      "pred: 4, prob: 0.76 true: 4\n"
     ]
    },
    {
     "data": {
      "image/png": "[encoded data removed]",
      "text/plain": [
       "<Figure size 432x288 with 1 Axes>"
      ]
     },
     "metadata": {
      "needs_background": "light"
     },
     "output_type": "display_data"
    },
    {
     "name": "stdout",
     "output_type": "stream",
     "text": [
      "pred: 0, prob: 0.92 true: 0\n"
     ]
    },
    {
     "data": {
      "image/png": "[encoded data removed]",
      "text/plain": [
       "<Figure size 432x288 with 1 Axes>"
      ]
     },
     "metadata": {
      "needs_background": "light"
     },
     "output_type": "display_data"
    },
    {
     "name": "stdout",
     "output_type": "stream",
     "text": [
      "pred: 7, prob: 0.36 true: 5\n"
     ]
    },
    {
     "data": {
      "image/png": "[encoded data removed]",
      "text/plain": [
       "<Figure size 432x288 with 1 Axes>"
      ]
     },
     "metadata": {
      "needs_background": "light"
     },
     "output_type": "display_data"
    },
    {
     "name": "stdout",
     "output_type": "stream",
     "text": [
      "pred: 1, prob: 0.68 true: 1\n"
     ]
    },
    {
     "data": {
      "image/png": "[encoded data removed]",
      "text/plain": [
       "<Figure size 432x288 with 1 Axes>"
      ]
     },
     "metadata": {
      "needs_background": "light"
     },
     "output_type": "display_data"
    },
    {
     "name": "stdout",
     "output_type": "stream",
     "text": [
      "pred: 4, prob: 0.79 true: 4\n"
     ]
    },
    {
     "data": {
      "image/png": "[encoded data removed]",
      "text/plain": [
       "<Figure size 432x288 with 1 Axes>"
      ]
     },
     "metadata": {
      "needs_background": "light"
     },
     "output_type": "display_data"
    },
    {
     "name": "stdout",
     "output_type": "stream",
     "text": [
      "pred: 4, prob: 0.87 true: 4\n"
     ]
    },
    {
     "data": {
      "image/png": "[encoded data removed]",
      "text/plain": [
       "<Figure size 432x288 with 1 Axes>"
      ]
     },
     "metadata": {
      "needs_background": "light"
     },
     "output_type": "display_data"
    },
    {
     "name": "stdout",
     "output_type": "stream",
     "text": [
      "pred: 8, prob: 0.24 true: 8\n"
     ]
    },
    {
     "data": {
      "image/png": "[encoded data removed]",
      "text/plain": [
       "<Figure size 432x288 with 1 Axes>"
      ]
     },
     "metadata": {
      "needs_background": "light"
     },
     "output_type": "display_data"
    },
    {
     "name": "stdout",
     "output_type": "stream",
     "text": [
      "pred: 1, prob: 0.75 true: 1\n"
     ]
    },
    {
     "data": {
      "image/png": "[encoded data removed]",
      "text/plain": [
       "<Figure size 432x288 with 1 Axes>"
      ]
     },
     "metadata": {
      "needs_background": "light"
     },
     "output_type": "display_data"
    },
    {
     "name": "stdout",
     "output_type": "stream",
     "text": [
      "pred: 6, prob: 0.88 true: 6\n"
     ]
    },
    {
     "data": {
      "image/png": "[encoded data removed]",
      "text/plain": [
       "<Figure size 432x288 with 1 Axes>"
      ]
     },
     "metadata": {
      "needs_background": "light"
     },
     "output_type": "display_data"
    },
    {
     "name": "stdout",
     "output_type": "stream",
     "text": [
      "pred: 6, prob: 0.39 true: 8\n"
     ]
    },
    {
     "data": {
      "image/png": "[encoded data removed]",
      "text/plain": [
       "<Figure size 432x288 with 1 Axes>"
      ]
     },
     "metadata": {
      "needs_background": "light"
     },
     "output_type": "display_data"
    },
    {
     "name": "stdout",
     "output_type": "stream",
     "text": [
      "pred: 3, prob: 0.46 true: 9\n"
     ]
    },
    {
     "data": {
      "image/png": "[encoded data removed]",
      "text/plain": [
       "<Figure size 432x288 with 1 Axes>"
      ]
     },
     "metadata": {
      "needs_background": "light"
     },
     "output_type": "display_data"
    },
    {
     "name": "stdout",
     "output_type": "stream",
     "text": [
      "pred: 4, prob: 0.52 true: 9\n"
     ]
    },
    {
     "data": {
      "image/png": "[encoded data removed]",
      "text/plain": [
       "<Figure size 432x288 with 1 Axes>"
      ]
     },
     "metadata": {
      "needs_background": "light"
     },
     "output_type": "display_data"
    }
   ],
   "source": [
    "# Display some Images for checking\n",
    "for image_test in test_rdd.map(lambda x: (x[0], predict(x[0], W1, B1, W2, B2), np.argmax(x[1]))).takeSample(False, 15):\n",
    "    \n",
    "    pred = np.argmax(image_test[1])\n",
    "    print(f'pred: {pred}, prob: {round(image_test[1][0][pred], 2)} true: {image_test[2]}')\n",
    "    image = np.reshape(image_test[0], (28, 28))\n",
    "    plt.imshow(image, cmap='binary')\n",
    "    plt.show()"
   ]
  },
  {
   "cell_type": "markdown",
   "metadata": {},
   "source": [
    "# Thank you !"
   ]
  }
 ],
 "metadata": {
  "kernelspec": {
   "display_name": "venv-3.7.7",
   "language": "python",
   "name": "venv-3.7.7"
  },
  "language_info": {
   "codemirror_mode": {
    "name": "ipython",
    "version": 3
   },
   "file_extension": ".py",
   "mimetype": "text/x-python",
   "name": "python",
   "nbconvert_exporter": "python",
   "pygments_lexer": "ipython3",
   "version": "3.7.7"
  }
 },
 "nbformat": 4,
 "nbformat_minor": 4
}
