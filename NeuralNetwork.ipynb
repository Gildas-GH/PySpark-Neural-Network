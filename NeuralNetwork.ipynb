{
 "cells": [
  {
   "cell_type": "markdown",
   "metadata": {},
   "source": [
    "# Neural Network From Scratch for Image Classification"
   ]
  },
  {
   "cell_type": "markdown",
   "metadata": {},
   "source": [
    "****"
   ]
  },
  {
   "cell_type": "markdown",
   "metadata": {},
   "source": [
    "# Imports"
   ]
  },
  {
   "cell_type": "code",
   "execution_count": 75,
   "metadata": {},
   "outputs": [
    {
     "name": "stdout",
     "output_type": "stream",
     "text": [
      "Pyspark Script: /Users/martinmarvin/.pyenv/versions/venv-3.7.7/lib/python3.7/site-packages/ipykernel_launcher.py\n",
      "PySpark version: 3.0.1\n"
     ]
    }
   ],
   "source": [
    "import sys\n",
    "import pyspark\n",
    "import numpy as np\n",
    "import random\n",
    "import matplotlib.pyplot as plt\n",
    "from sklearn.metrics import multilabel_confusion_matrix\n",
    "\n",
    "\n",
    "print(\"Pyspark Script:\", sys.argv[0])\n",
    "print(\"PySpark version:\", pyspark.__version__)"
   ]
  },
  {
   "cell_type": "markdown",
   "metadata": {},
   "source": [
    "# Download MNIST Dataset from Keras"
   ]
  },
  {
   "cell_type": "code",
   "execution_count": 39,
   "metadata": {},
   "outputs": [],
   "source": [
    "from keras.datasets import mnist, fashion_mnist\n",
    "from keras.utils import to_categorical\n",
    "\n",
    "# load MNIST\n",
    "(x_train, y_train), (x_test, y_test) = mnist.load_data()\n",
    "#(x_train, y_train), (x_test, y_test) = fashion_mnist.load_data() # For more fancy data use this\n",
    "\n",
    "# training data : 60000 samples\n",
    "# reshape and normalize input data\n",
    "x_train = x_train.reshape(x_train.shape[0], 1, 28*28)\n",
    "x_train = x_train.astype('float32')\n",
    "x_train /= 255\n",
    "# encode output which is a number in range [0,9] into a vector of size 10\n",
    "# e.g. number 3 will become [0, 0, 0, 1, 0, 0, 0, 0, 0, 0]\n",
    "y_train = to_categorical(y_train)\n",
    "\n",
    "# same for test data : 10000 samples\n",
    "x_test = x_test.reshape(x_test.shape[0], 1, 28*28)\n",
    "x_test = x_test.astype('float32')\n",
    "x_test /= 255\n",
    "y_test = to_categorical(y_test)\n",
    "\n",
    "\n",
    "np.savetxt('data/mnist_images_train.csv', x_train.reshape(len(x_train),784).tolist())\n",
    "np.savetxt('data/mnist_images_test.csv', x_test.reshape(len(x_test),784).tolist())\n",
    "np.savetxt('data/mnist_labels_train.csv', y_train.tolist())\n",
    "np.savetxt('data/mnist_labels_test.csv', y_test.tolist())"
   ]
  },
  {
   "cell_type": "markdown",
   "metadata": {},
   "source": [
    "# Load data"
   ]
  },
  {
   "cell_type": "code",
   "execution_count": 40,
   "metadata": {},
   "outputs": [],
   "source": [
    "txt_train_images = sc.textFile(\"data/mnist_images_train.csv\", 1)\n",
    "x_train = txt_train_images.map(lambda x : np.fromstring(x, dtype=float, sep=' ').reshape(1, 784)).zipWithIndex().map(lambda x: (str(x[1]), x[0]))\n",
    "\n",
    "txt_train_labels = sc.textFile(\"data/mnist_labels_train.csv\", 1)\n",
    "y_train = txt_train_labels.map(lambda x : np.fromstring(x, dtype=float, sep=' ').reshape(1, 10)).zipWithIndex().map(lambda x: (str(x[1]), x[0]))\n",
    "\n",
    "txt_test_images = sc.textFile(\"data/mnist_images_test.csv\", 1)\n",
    "x_test = txt_test_images.map(lambda x : np.fromstring(x, dtype=float, sep=' ').reshape(1, 784)).zipWithIndex().map(lambda x: (str(x[1]), x[0]))\n",
    "\n",
    "txt_test_labels = sc.textFile(\"data/mnist_labels_test.csv\", 1)\n",
    "y_test = txt_test_labels.map(lambda x : np.fromstring(x, dtype=float, sep=' ').reshape(1, 10)).zipWithIndex().map(lambda x: (str(x[1]), x[0]))"
   ]
  },
  {
   "cell_type": "code",
   "execution_count": 109,
   "metadata": {},
   "outputs": [
    {
     "name": "stdout",
     "output_type": "stream",
     "text": [
      "[(array([[0.        , 0.        , 0.        , 0.        , 0.        ,\n",
      "        0.        , 0.        , 0.        , 0.        , 0.        ,\n",
      "        0.        , 0.        , 0.        , 0.        , 0.        ,\n",
      "        0.        , 0.        , 0.        , 0.        , 0.        ,\n",
      "        0.        , 0.        , 0.        , 0.        , 0.        ,\n",
      "        0.        , 0.        , 0.        , 0.        , 0.        ,\n",
      "        0.        , 0.        , 0.        , 0.        , 0.        ,\n",
      "        0.        , 0.        , 0.        , 0.        , 0.        ,\n",
      "        0.        , 0.        , 0.        , 0.        , 0.        ,\n",
      "        0.        , 0.        , 0.        , 0.        , 0.        ,\n",
      "        0.        , 0.        , 0.        , 0.        , 0.        ,\n",
      "        0.        , 0.        , 0.        , 0.        , 0.        ,\n",
      "        0.        , 0.        , 0.        , 0.        , 0.        ,\n",
      "        0.        , 0.        , 0.        , 0.        , 0.        ,\n",
      "        0.        , 0.        , 0.        , 0.        , 0.        ,\n",
      "        0.        , 0.        , 0.        , 0.        , 0.        ,\n",
      "        0.        , 0.        , 0.        , 0.        , 0.        ,\n",
      "        0.        , 0.        , 0.        , 0.        , 0.        ,\n",
      "        0.        , 0.        , 0.        , 0.        , 0.        ,\n",
      "        0.        , 0.        , 0.        , 0.        , 0.        ,\n",
      "        0.        , 0.        , 0.        , 0.        , 0.        ,\n",
      "        0.        , 0.        , 0.        , 0.        , 0.        ,\n",
      "        0.        , 0.        , 0.        , 0.        , 0.        ,\n",
      "        0.        , 0.        , 0.        , 0.        , 0.        ,\n",
      "        0.        , 0.        , 0.        , 0.        , 0.        ,\n",
      "        0.        , 0.        , 0.        , 0.        , 0.        ,\n",
      "        0.        , 0.        , 0.        , 0.        , 0.        ,\n",
      "        0.        , 0.        , 0.        , 0.        , 0.        ,\n",
      "        0.        , 0.        , 0.        , 0.        , 0.        ,\n",
      "        0.        , 0.        , 0.        , 0.        , 0.        ,\n",
      "        0.        , 0.        , 0.        , 0.        , 0.69803923,\n",
      "        1.        , 0.41176471, 0.        , 0.        , 0.        ,\n",
      "        0.        , 0.        , 0.        , 0.        , 0.        ,\n",
      "        0.        , 0.        , 0.        , 0.        , 0.        ,\n",
      "        0.        , 0.        , 0.        , 0.        , 0.        ,\n",
      "        0.        , 0.        , 0.        , 0.        , 0.        ,\n",
      "        0.        , 0.02352941, 0.73725492, 0.99215686, 0.84705883,\n",
      "        0.05490196, 0.        , 0.        , 0.        , 0.        ,\n",
      "        0.        , 0.        , 0.        , 0.        , 0.        ,\n",
      "        0.        , 0.        , 0.        , 0.        , 0.        ,\n",
      "        0.        , 0.        , 0.        , 0.        , 0.        ,\n",
      "        0.        , 0.        , 0.        , 0.        , 0.05490196,\n",
      "        0.79215688, 0.99215686, 0.99215686, 0.09019608, 0.        ,\n",
      "        0.        , 0.        , 0.        , 0.        , 0.        ,\n",
      "        0.        , 0.        , 0.        , 0.        , 0.        ,\n",
      "        0.        , 0.        , 0.        , 0.        , 0.        ,\n",
      "        0.        , 0.        , 0.        , 0.        , 0.        ,\n",
      "        0.        , 0.        , 0.04705882, 0.78039217, 0.99215686,\n",
      "        0.50196081, 0.02352941, 0.        , 0.        , 0.        ,\n",
      "        0.        , 0.        , 0.        , 0.        , 0.        ,\n",
      "        0.        , 0.        , 0.        , 0.        , 0.        ,\n",
      "        0.        , 0.        , 0.        , 0.        , 0.        ,\n",
      "        0.        , 0.        , 0.        , 0.        , 0.        ,\n",
      "        0.16470589, 0.99215686, 0.99215686, 0.61960787, 0.        ,\n",
      "        0.        , 0.        , 0.        , 0.        , 0.        ,\n",
      "        0.        , 0.        , 0.        , 0.        , 0.        ,\n",
      "        0.        , 0.        , 0.        , 0.        , 0.        ,\n",
      "        0.        , 0.        , 0.        , 0.        , 0.        ,\n",
      "        0.        , 0.        , 0.        , 0.16470589, 0.99215686,\n",
      "        0.99215686, 0.61960787, 0.        , 0.        , 0.        ,\n",
      "        0.        , 0.        , 0.        , 0.        , 0.        ,\n",
      "        0.        , 0.        , 0.        , 0.        , 0.        ,\n",
      "        0.        , 0.        , 0.        , 0.        , 0.        ,\n",
      "        0.        , 0.        , 0.        , 0.        , 0.        ,\n",
      "        0.        , 0.60784316, 0.99215686, 0.99215686, 0.61960787,\n",
      "        0.        , 0.        , 0.        , 0.        , 0.        ,\n",
      "        0.        , 0.        , 0.        , 0.        , 0.        ,\n",
      "        0.        , 0.        , 0.        , 0.        , 0.        ,\n",
      "        0.        , 0.        , 0.        , 0.        , 0.        ,\n",
      "        0.        , 0.        , 0.        , 0.        , 0.627451  ,\n",
      "        0.99215686, 0.99215686, 0.57647061, 0.        , 0.        ,\n",
      "        0.        , 0.        , 0.        , 0.        , 0.        ,\n",
      "        0.        , 0.        , 0.        , 0.        , 0.        ,\n",
      "        0.        , 0.        , 0.        , 0.        , 0.        ,\n",
      "        0.        , 0.        , 0.        , 0.        , 0.        ,\n",
      "        0.        , 0.        , 0.627451  , 0.99215686, 0.99215686,\n",
      "        0.16078432, 0.        , 0.        , 0.        , 0.        ,\n",
      "        0.        , 0.        , 0.        , 0.        , 0.        ,\n",
      "        0.        , 0.        , 0.        , 0.        , 0.        ,\n",
      "        0.        , 0.        , 0.        , 0.        , 0.        ,\n",
      "        0.        , 0.        , 0.        , 0.        , 0.06666667,\n",
      "        0.88235295, 0.99215686, 0.92156863, 0.12156863, 0.        ,\n",
      "        0.        , 0.        , 0.        , 0.        , 0.        ,\n",
      "        0.        , 0.        , 0.        , 0.        , 0.        ,\n",
      "        0.        , 0.        , 0.        , 0.        , 0.        ,\n",
      "        0.        , 0.        , 0.        , 0.        , 0.        ,\n",
      "        0.        , 0.        , 0.09411765, 0.99215686, 0.99215686,\n",
      "        0.6901961 , 0.        , 0.        , 0.        , 0.        ,\n",
      "        0.        , 0.        , 0.        , 0.        , 0.        ,\n",
      "        0.        , 0.        , 0.        , 0.        , 0.        ,\n",
      "        0.        , 0.        , 0.        , 0.        , 0.        ,\n",
      "        0.        , 0.        , 0.        , 0.        , 0.        ,\n",
      "        0.09411765, 0.99215686, 0.99215686, 0.6901961 , 0.        ,\n",
      "        0.        , 0.        , 0.        , 0.        , 0.        ,\n",
      "        0.        , 0.        , 0.        , 0.        , 0.        ,\n",
      "        0.        , 0.        , 0.        , 0.        , 0.        ,\n",
      "        0.        , 0.        , 0.        , 0.        , 0.        ,\n",
      "        0.        , 0.        , 0.        , 0.09411765, 0.99215686,\n",
      "        0.99215686, 0.6901961 , 0.        , 0.        , 0.        ,\n",
      "        0.        , 0.        , 0.        , 0.        , 0.        ,\n",
      "        0.        , 0.        , 0.        , 0.        , 0.        ,\n",
      "        0.        , 0.        , 0.        , 0.        , 0.        ,\n",
      "        0.        , 0.        , 0.        , 0.        , 0.        ,\n",
      "        0.        , 0.09411765, 0.99215686, 0.99215686, 0.6901961 ,\n",
      "        0.        , 0.        , 0.        , 0.        , 0.        ,\n",
      "        0.        , 0.        , 0.        , 0.        , 0.        ,\n",
      "        0.        , 0.        , 0.        , 0.        , 0.        ,\n",
      "        0.        , 0.        , 0.        , 0.        , 0.        ,\n",
      "        0.        , 0.        , 0.        , 0.        , 0.09411765,\n",
      "        0.99215686, 0.99215686, 0.63529414, 0.        , 0.        ,\n",
      "        0.        , 0.        , 0.        , 0.        , 0.        ,\n",
      "        0.        , 0.        , 0.        , 0.        , 0.        ,\n",
      "        0.        , 0.        , 0.        , 0.        , 0.        ,\n",
      "        0.        , 0.        , 0.        , 0.        , 0.        ,\n",
      "        0.        , 0.        , 0.18039216, 0.99215686, 0.99215686,\n",
      "        0.23137255, 0.        , 0.        , 0.        , 0.        ,\n",
      "        0.        , 0.        , 0.        , 0.        , 0.        ,\n",
      "        0.        , 0.        , 0.        , 0.        , 0.        ,\n",
      "        0.        , 0.        , 0.        , 0.        , 0.        ,\n",
      "        0.        , 0.        , 0.        , 0.        , 0.        ,\n",
      "        0.55686277, 0.99215686, 0.99215686, 0.23137255, 0.        ,\n",
      "        0.        , 0.        , 0.        , 0.        , 0.        ,\n",
      "        0.        , 0.        , 0.        , 0.        , 0.        ,\n",
      "        0.        , 0.        , 0.        , 0.        , 0.        ,\n",
      "        0.        , 0.        , 0.        , 0.        , 0.        ,\n",
      "        0.        , 0.        , 0.        , 0.55686277, 0.99215686,\n",
      "        0.99215686, 0.23137255, 0.        , 0.        , 0.        ,\n",
      "        0.        , 0.        , 0.        , 0.        , 0.        ,\n",
      "        0.        , 0.        , 0.        , 0.        , 0.        ,\n",
      "        0.        , 0.        , 0.        , 0.        , 0.        ,\n",
      "        0.        , 0.        , 0.        , 0.        , 0.        ,\n",
      "        0.        , 0.55686277, 0.99215686, 0.79215688, 0.03137255,\n",
      "        0.        , 0.        , 0.        , 0.        , 0.        ,\n",
      "        0.        , 0.        , 0.        , 0.        , 0.        ,\n",
      "        0.        , 0.        , 0.        , 0.        , 0.        ,\n",
      "        0.        , 0.        , 0.        , 0.        , 0.        ,\n",
      "        0.        , 0.        , 0.        , 0.        , 0.34117648,\n",
      "        0.99215686, 0.54509807, 0.        , 0.        , 0.        ,\n",
      "        0.        , 0.        , 0.        , 0.        , 0.        ,\n",
      "        0.        , 0.        , 0.        , 0.        , 0.        ,\n",
      "        0.        , 0.        , 0.        , 0.        , 0.        ,\n",
      "        0.        , 0.        , 0.        , 0.        , 0.        ,\n",
      "        0.        , 0.        , 0.        , 0.        , 0.        ,\n",
      "        0.        , 0.        , 0.        , 0.        , 0.        ,\n",
      "        0.        , 0.        , 0.        , 0.        , 0.        ,\n",
      "        0.        , 0.        , 0.        , 0.        , 0.        ,\n",
      "        0.        , 0.        , 0.        , 0.        , 0.        ,\n",
      "        0.        , 0.        , 0.        , 0.        , 0.        ,\n",
      "        0.        , 0.        , 0.        , 0.        , 0.        ,\n",
      "        0.        , 0.        , 0.        , 0.        , 0.        ,\n",
      "        0.        , 0.        , 0.        , 0.        , 0.        ,\n",
      "        0.        , 0.        , 0.        , 0.        , 0.        ,\n",
      "        0.        , 0.        , 0.        , 0.        , 0.        ,\n",
      "        0.        , 0.        , 0.        , 0.        , 0.        ,\n",
      "        0.        , 0.        , 0.        , 0.        , 0.        ,\n",
      "        0.        , 0.        , 0.        , 0.        , 0.        ,\n",
      "        0.        , 0.        , 0.        , 0.        ]]), array([[0., 1.]]))]\n"
     ]
    },
    {
     "name": "stdout",
     "output_type": "stream",
     "text": [
      "Trainset size: 12665\n",
      "Testset size: 2115\n"
     ]
    }
   ],
   "source": [
    "train_ds_rdd = x_train.join(y_train).map(lambda x: x[1]).map(lambda x: (x[0], np.array([x[1][0][:2]])))\n",
    "test_ds_rdd = x_test.join(y_test).map(lambda x: x[1]).map(lambda x: (x[0], np.array([x[1][0][:2]])))\n",
    "\n",
    "train_rdd = train_ds_rdd.filter(lambda x: np.array_equal(x[1][0], [1., 0.]) or np.array_equal(x[1][0], [0., 1.]))\n",
    "test_rdd = test_ds_rdd.filter(lambda x: np.array_equal(x[1][0], [1., 0.]) or np.array_equal(x[1][0], [0., 1.]))\n",
    "\n",
    "train_rdd.cache()\n",
    "\n",
    "print(train_rdd.take(1))\n",
    "print(\"Trainset size:\", train_rdd.count())\n",
    "print(\"Testset size:\", test_rdd.count())"
   ]
  },
  {
   "cell_type": "markdown",
   "metadata": {},
   "source": [
    "# Functions"
   ]
  },
  {
   "cell_type": "markdown",
   "metadata": {},
   "source": [
    "## Activation Function"
   ]
  },
  {
   "cell_type": "code",
   "execution_count": 98,
   "metadata": {},
   "outputs": [],
   "source": [
    "# General function to apply any activation function\n",
    "def activation(x, f):\n",
    "    return f(x)\n",
    "\n",
    "# Sigmoid Activation function\n",
    "def sigmoid(X):\n",
    "    return 1 / (1 + np.exp(-X))\n",
    "\n",
    "# Sigmoid prime function (used for backward prop)\n",
    "def sigmoid_prime(x):\n",
    "    sig = sigmoid(x)\n",
    "    return sig * (1 - sig)"
   ]
  },
  {
   "cell_type": "markdown",
   "metadata": {},
   "source": [
    "## Forward Propagation"
   ]
  },
  {
   "cell_type": "code",
   "execution_count": 99,
   "metadata": {},
   "outputs": [],
   "source": [
    "# Compute the layer propagation before activation\n",
    "def preforward(x, w, b):\n",
    "    return np.dot(x, w) + b\n",
    "\n",
    "# Compute the layer propagation after activation\n",
    "# This is also equivalent to a predict function once model is trained\n",
    "def predict(x, W1, B1, W2, B2):\n",
    "    return sigmoid(preforward(sigmoid(preforward(x , W1, B1)), W2, B2))"
   ]
  },
  {
   "cell_type": "markdown",
   "metadata": {},
   "source": [
    "## Backward Propagation"
   ]
  },
  {
   "cell_type": "code",
   "execution_count": 100,
   "metadata": {},
   "outputs": [],
   "source": [
    "# Compute the derivative of the error regarding B2\n",
    "def derivativeB2(y_pred, y_true, y_h, f_prime):\n",
    "    return (y_pred - y_true) * f_prime(y_h)\n",
    "\n",
    "# Compute the derivative of the error regarding W2\n",
    "def derivativeW2(h, dB2):\n",
    "    return np.dot(h.T, dB2)\n",
    "\n",
    "# Compute the derivative of the error regarding B1\n",
    "def derivativeB1(h_h, dB2, W2, f_prime):\n",
    "    return np.dot(dB2, W2.T) * f_prime(h_h)\n",
    "\n",
    "# Compute the derivative of the error regarding W1\n",
    "def derivativeW1(x, dB1):\n",
    "    return np.dot(x.T, dB1)"
   ]
  },
  {
   "cell_type": "markdown",
   "metadata": {},
   "source": [
    "## Evaluation"
   ]
  },
  {
   "cell_type": "code",
   "execution_count": 101,
   "metadata": {},
   "outputs": [],
   "source": [
    "def get_metrics(pred, true):\n",
    "    cm = multilabel_confusion_matrix(true, pred)\n",
    "    return (cm)\n",
    "\n",
    "# Cost function\n",
    "def sse(y_pred, y_true):\n",
    "    return 0.5 * np.sum(np.power(y_pred - y_true, 2))"
   ]
  },
  {
   "cell_type": "markdown",
   "metadata": {},
   "source": [
    "# Training (Mini Batch Implementation)"
   ]
  },
  {
   "cell_type": "code",
   "execution_count": 105,
   "metadata": {},
   "outputs": [
    {
     "name": "stdout",
     "output_type": "stream",
     "text": [
      "Start Training Loop:\n",
      "   Epoch 1/50 | Cost: 0.30694518465663495 | Acc: 48.21688093907211 | Batchsize:8945\n",
      "   Epoch 2/50 | Cost: 0.29965339398693647 | Acc: 49.08742676881478 | Batchsize:8876\n",
      "   Epoch 3/50 | Cost: 0.29347958677629776 | Acc: 49.859313449634215 | Batchsize:8885\n",
      "   Epoch 4/50 | Cost: 0.28483099323058286 | Acc: 51.35258532131035 | Batchsize:8761\n",
      "   Epoch 5/50 | Cost: 0.2778179974224185 | Acc: 52.38521836506159 | Batchsize:8930\n",
      "   Epoch 6/50 | Cost: 0.2723570459347797 | Acc: 53.16227774026559 | Batchsize:8886\n",
      "   Epoch 7/50 | Cost: 0.26336081447285453 | Acc: 55.45915492957747 | Batchsize:8875\n",
      "   Epoch 8/50 | Cost: 0.2578986372366768 | Acc: 56.88344115310407 | Batchsize:8811\n",
      "   Epoch 9/50 | Cost: 0.2504626757151286 | Acc: 58.3635129017655 | Batchsize:8836\n",
      "   Epoch 10/50 | Cost: 0.24290316047567992 | Acc: 60.4508425398951 | Batchsize:8961\n",
      "   Epoch 11/50 | Cost: 0.23620521108721343 | Acc: 62.43237150586114 | Batchsize:8872\n",
      "   Epoch 12/50 | Cost: 0.2305504547533712 | Acc: 64.39393939393939 | Batchsize:8844\n",
      "   Epoch 13/50 | Cost: 0.22366113996194872 | Acc: 66.21376811594203 | Batchsize:8832\n",
      "   Epoch 14/50 | Cost: 0.21602347801487207 | Acc: 69.26122864577441 | Batchsize:8839\n",
      "   Epoch 15/50 | Cost: 0.20822686144365662 | Acc: 71.73372513562387 | Batchsize:8848\n",
      "   Epoch 16/50 | Cost: 0.20151779820369 | Acc: 73.5141828005403 | Batchsize:8884\n",
      "   Epoch 17/50 | Cost: 0.19703586686801525 | Acc: 75.37727474478473 | Batchsize:9012\n",
      "   Epoch 18/50 | Cost: 0.1907806074995643 | Acc: 77.75786762235413 | Batchsize:8929\n",
      "   Epoch 19/50 | Cost: 0.1843813358514076 | Acc: 79.39597315436242 | Batchsize:8940\n",
      "   Epoch 20/50 | Cost: 0.17920082966175258 | Acc: 81.49273893954745 | Batchsize:8883\n",
      "   Epoch 21/50 | Cost: 0.17389661334609707 | Acc: 82.84037028674645 | Batchsize:8858\n",
      "   Epoch 22/50 | Cost: 0.16939504927602167 | Acc: 84.14121920762855 | Batchsize:8809\n",
      "   Epoch 23/50 | Cost: 0.165651864397206 | Acc: 85.43382601827824 | Batchsize:8863\n",
      "   Epoch 24/50 | Cost: 0.16000979244185765 | Acc: 86.96241110734846 | Batchsize:8859\n",
      "   Epoch 25/50 | Cost: 0.15610801395572013 | Acc: 87.92751981879955 | Batchsize:8830\n",
      "   Epoch 26/50 | Cost: 0.15212573881010885 | Acc: 88.74971789663732 | Batchsize:8862\n",
      "   Epoch 27/50 | Cost: 0.14843750036312267 | Acc: 89.48024006341298 | Batchsize:8831\n",
      "   Epoch 28/50 | Cost: 0.14491864258786086 | Acc: 90.19939168638054 | Batchsize:8877\n",
      "   Epoch 29/50 | Cost: 0.14201286923804635 | Acc: 90.55100182149363 | Batchsize:8784\n",
      "   Epoch 30/50 | Cost: 0.1386638861963142 | Acc: 91.2989921612542 | Batchsize:8930\n",
      "   Epoch 31/50 | Cost: 0.13569419675518 | Acc: 91.66856881990412 | Batchsize:8762\n",
      "   Epoch 32/50 | Cost: 0.1318068269268111 | Acc: 92.2972667720804 | Batchsize:8854\n",
      "   Epoch 33/50 | Cost: 0.12991797765725066 | Acc: 92.499718880018 | Batchsize:8893\n",
      "   Epoch 34/50 | Cost: 0.126521727730359 | Acc: 92.92803970223325 | Batchsize:8866\n",
      "   Epoch 35/50 | Cost: 0.12362289438268617 | Acc: 93.50415823780625 | Batchsize:8898\n",
      "   Epoch 36/50 | Cost: 0.12194358937827449 | Acc: 93.71621621621622 | Batchsize:8880\n",
      "   Epoch 37/50 | Cost: 0.1184551045926314 | Acc: 94.2019176536943 | Batchsize:8865\n",
      "   Epoch 38/50 | Cost: 0.1166059267121515 | Acc: 94.51761792187324 | Batchsize:8883\n",
      "   Epoch 39/50 | Cost: 0.11398142681220319 | Acc: 94.87179487179486 | Batchsize:8970\n",
      "   Epoch 40/50 | Cost: 0.11207467736078024 | Acc: 94.987609822032 | Batchsize:8878\n",
      "   Epoch 41/50 | Cost: 0.10876836845826682 | Acc: 95.58573853989813 | Batchsize:8835\n",
      "   Epoch 42/50 | Cost: 0.10827397739454524 | Acc: 95.44990355157155 | Batchsize:8813\n",
      "   Epoch 43/50 | Cost: 0.10509868794331063 | Acc: 96.00179191398813 | Batchsize:8929\n",
      "   Epoch 44/50 | Cost: 0.1034901850944943 | Acc: 96.05352687684282 | Batchsize:8818\n",
      "   Epoch 45/50 | Cost: 0.10057346236961613 | Acc: 96.40230795338839 | Batchsize:8839\n",
      "   Epoch 46/50 | Cost: 0.09923118547905806 | Acc: 96.3256076879593 | Batchsize:8845\n",
      "   Epoch 47/50 | Cost: 0.09685592254768592 | Acc: 96.71414152741954 | Batchsize:8917\n",
      "   Epoch 48/50 | Cost: 0.09504101664638996 | Acc: 96.83657500558908 | Batchsize:8946\n",
      "   Epoch 49/50 | Cost: 0.09370727022573931 | Acc: 97.01710941017559 | Batchsize:8884\n",
      "   Epoch 50/50 | Cost: 0.09266668130409249 | Acc: 97.01358482092736 | Batchsize:8907\n",
      "Training end..\n"
     ]
    },
    {
     "data": {
      "image/png": "[encoded data removed]",
      "text/plain": [
       "<Figure size 432x288 with 1 Axes>"
      ]
     },
     "metadata": {
      "needs_background": "light"
     },
     "output_type": "display_data"
    },
    {
     "data": {
      "image/png": "[encoded data removed]",
      "text/plain": [
       "<Figure size 432x288 with 1 Axes>"
      ]
     },
     "metadata": {
      "needs_background": "light"
     },
     "output_type": "display_data"
    }
   ],
   "source": [
    "# Hyperparameters\n",
    "num_iteration = 50\n",
    "learningRate = 0.1\n",
    "\n",
    "input_layer = 784 # number of neurones in the input layer (equal to image size)\n",
    "hidden_layer = 64 # number of neurones in the hidden layer (Custom)\n",
    "output_layer = 2 # number of neurones in the output layer (equal to the number of possible labels)\n",
    "\n",
    "\n",
    "# Paramater Initialization\n",
    "W1 = np.random.rand(input_layer, hidden_layer) - 0.5 # Shape (784, 64)\n",
    "W2 = np.random.rand(hidden_layer, output_layer) - 0.5 # Shape (64, 2)\n",
    "B1 = np.random.rand(1, hidden_layer) - 0.5 # Shape (1, 64)\n",
    "B2 = np.random.rand(1, output_layer) - 0.5 # Shape (1, 2)\n",
    "\n",
    "# History over epochs\n",
    "cost_history = []\n",
    "acc_history = []\n",
    "\n",
    "# Epoch Loop (mini batch implementation)\n",
    "print(\"Start Training Loop:\")\n",
    "\n",
    "for i in range(num_iteration):\n",
    "    \n",
    "    # Compute gradients, cost and accuracy over mini batch \n",
    "    \n",
    "    ################## Notations ######################\n",
    "    # x -> Input Image flatten of shape (1, 784)\n",
    "    # y* -> One hot label of shape (1, 2)\n",
    "    # h^ -> Forward prop from Input layer to hidden layer before activation (1, 64) using W1, B1 parm\n",
    "    # h -> Forward prop from Input layer to hidden layer after tanh activation (1, 64)\n",
    "    # y^ -> Forward prop from hidden layer to output layer before activation (1, 2) using W2, B2 parm\n",
    "    # y -> Forward prop from hidden layer to output layer after sigmoid activation (1, 2)\n",
    "    # E -> Error between y and y* using SSE\n",
    "    # Acc -> 1 is right prediction 0 otherwise\n",
    "    # DE/D? -> Partial derivative of the Error regarding parmaters (B2, W2, B1, W1)\n",
    "    \n",
    "    \n",
    "    ################# Forward Prop ######################\n",
    "    # map batch ([x], [y*]) to ([x], [h^],[y*])\n",
    "    # map batch ([x], [h^],[y*]) to ([x], [h^], [h], [y*])\n",
    "    # map batch ([x], [h^], [h], [y*]) to ([x], [h^], [h], [y^], [y*])\n",
    "    # map batch ([x], [h^], [h], [y^], [y*]) to ([x], [h^], [h], [y^], [y], [y*])\n",
    "    ################# Backward Prop #####################\n",
    "    # map batch ([x], [h^], [h], [y^], [y], [y*]) to ([x], [h^], [h], [E], [DE/DB2], [Acc])\n",
    "    # map batch ([x], [h^], [h], [E], [DE/DB2], [Acc]) to ([x], [h^], [E], [DE/DB2], [DE/DW2], [Acc])\n",
    "    # map batch ([x], [h^], [E], [DE/DB2], [DE/DW2], [Acc]) to ([x], [E], [DE/DB2], [DE/DW2], [DE/DB1], [Acc])\n",
    "    # map batch ([x], [E], [DE/DB2], [DE/DW2], [DE/DB1], [Acc]) to ([E], [DE/DB2], [DE/DW2], [DE/DB1], [DE/DW1],[Acc])\n",
    "    ############### Reduce over the mini batch #########\n",
    "\n",
    "\n",
    "    gradientCostAcc = train_rdd\\\n",
    "                        .sample(False,0.7)\\\n",
    "                        .map(lambda x: (x[0], preforward(x[0], W1, B1), x[1]))\\\n",
    "                        .map(lambda x: (x[0], x[1], activation(x[1], sigmoid), x[2]))\\\n",
    "                        .map(lambda x: (x[0], x[1], x[2], preforward(x[2], W2, B2), x[3]))\\\n",
    "                        .map(lambda x: (x[0], x[1], x[2], x[3], activation(x[3], sigmoid), x[4]))\\\n",
    "                        .map(lambda x: (x[0], x[1], x[2], sse(x[4], x[5]), derivativeB2(x[4], x[5], x[3], sigmoid_prime), int(np.argmax(x[4]) == np.argmax(x[5]))))\\\n",
    "                        .map(lambda x: (x[0], x[1], x[3], x[4],  derivativeW2(x[2], x[4]) ,x[5]))\\\n",
    "                        .map(lambda x: (x[0], x[2], x[3], x[4],  derivativeB1(x[1],  x[3], W2, sigmoid_prime) ,x[5]))\\\n",
    "                        .map(lambda x: (x[1], x[2], x[3], x[4], derivativeW1(x[0], x[4]) ,x[5], 1)) \\\n",
    "                        .reduce(lambda x, y: (x[0] + y[0], x[1] + y[1], x[2] + y[2], x[3] + y[3], x[4] + y[4], x[5] + y[5], x[6] + y[6]))\n",
    "\n",
    "    # Cost and Accuarcy of the mini batch\n",
    "    n = gradientCostAcc[-1] # number of images in the mini batch\n",
    "    cost = gradientCostAcc[0]/n # Cost over the mini batch\n",
    "    acc = gradientCostAcc[5]/n # Accuarcy over the mini batch\n",
    "    \n",
    "     # Add to history\n",
    "    cost_history.append(cost)\n",
    "    acc_history.append(acc)\n",
    "    \n",
    "\n",
    "    # Extract gradiends\n",
    "    DB2 = gradientCostAcc[1]/n\n",
    "    DW2 = gradientCostAcc[2]/n\n",
    "    DB1 = gradientCostAcc[3]/n\n",
    "    DW1 = gradientCostAcc[4]/n\n",
    "            \n",
    "    # Update parameter with new learning rate and gradients using Gradient Descent\n",
    "    B2 -= learningRate * DB2\n",
    "    W2 -= learningRate * DW2\n",
    "    B1 -= learningRate * DB1\n",
    "    W1 -= learningRate * DW1\n",
    "\n",
    "    # Display performances\n",
    "    print(f\"   Epoch {i+1}/{num_iteration} | Cost: {cost_history[i]} | Acc: {acc_history[i]*100} | Batchsize:{n}\")\n",
    "\n",
    "print(\"Training end..\")\n",
    "\n",
    "# Plot of cost over epochs\n",
    "plt.subplot(2, 1, 1)\n",
    "plt.plot(cost_history)\n",
    "plt.show()\n",
    "\n",
    "# Plot of accuracy over epochs\n",
    "plt.subplot(2, 1, 2)\n",
    "plt.plot(acc_history)\n",
    "plt.show()"
   ]
  },
  {
   "cell_type": "markdown",
   "metadata": {},
   "source": [
    "# Test Evaluation"
   ]
  },
  {
   "cell_type": "code",
   "execution_count": 106,
   "metadata": {},
   "outputs": [
    {
     "name": "stdout",
     "output_type": "stream",
     "text": [
      "\n",
      "---- Digit 0 ------\n",
      "\n",
      "TP: 951 FP: 62 FN: 29 TN: 1073\n",
      "\n",
      "Precision : 0.9387956555391949\n",
      "Recall: 0.9704081622750937\n",
      "F1 score: 0.9543396898469885\n",
      "\n",
      "---- Digit 1 ------\n",
      "\n",
      "TP: 1112 FP: 73 FN: 23 TN: 907\n",
      "\n",
      "Precision : 0.9383966236806779\n",
      "Recall: 0.9797356819561799\n",
      "F1 score: 0.9586201890612742\n"
     ]
    }
   ],
   "source": [
    "# Use the trained model over the Testset and get Confusion matrix per class\n",
    "metrics = test_rdd.map(lambda x: get_metrics(np.round(predict(x[0], W1, B1, W2, B2)), x[1]))\\\n",
    "                  .reduce(lambda x, y: x + y)\n",
    "\n",
    "# For each class give TP, FP, FN, TN and precision, and recall, and F1 score\n",
    "for label, label_metrics in enumerate(metrics):\n",
    "    \n",
    "    print(f\"\\n---- Digit {label} ------\\n\")\n",
    "    tn, fp, fn, tp = label_metrics.ravel()\n",
    "    print(\"TP:\", tp, \"FP:\", fp, \"FN:\", fn, \"TN:\", tn)\n",
    "\n",
    "    precision = tp / (tp + fp + 0.000001)\n",
    "    print(f\"\\nPrecision : {precision}\")\n",
    "\n",
    "    recall = tp / (tp + fn + 0.000001)\n",
    "    print(f\"Recall: {recall}\")\n",
    "\n",
    "    F1 = 2 * (precision * recall) / (precision + recall + 0.000001)\n",
    "    print(f\"F1 score: {F1}\")"
   ]
  },
  {
   "cell_type": "code",
   "execution_count": 107,
   "metadata": {
    "scrolled": false
   },
   "outputs": [
    {
     "name": "stdout",
     "output_type": "stream",
     "text": [
      "pred: 0, prob: 0.52 true: 0\n"
     ]
    },
    {
     "data": {
      "image/png": "[encoded data removed]",
      "text/plain": [
       "<Figure size 432x288 with 1 Axes>"
      ]
     },
     "metadata": {
      "needs_background": "light"
     },
     "output_type": "display_data"
    },
    {
     "name": "stdout",
     "output_type": "stream",
     "text": [
      "pred: 1, prob: 0.59 true: 1\n"
     ]
    },
    {
     "data": {
      "image/png": "[encoded data removed]",
      "text/plain": [
       "<Figure size 432x288 with 1 Axes>"
      ]
     },
     "metadata": {
      "needs_background": "light"
     },
     "output_type": "display_data"
    },
    {
     "name": "stdout",
     "output_type": "stream",
     "text": [
      "pred: 0, prob: 0.92 true: 0\n"
     ]
    },
    {
     "data": {
      "image/png": "[encoded data removed]",
      "text/plain": [
       "<Figure size 432x288 with 1 Axes>"
      ]
     },
     "metadata": {
      "needs_background": "light"
     },
     "output_type": "display_data"
    },
    {
     "name": "stdout",
     "output_type": "stream",
     "text": [
      "pred: 1, prob: 0.62 true: 1\n"
     ]
    },
    {
     "data": {
      "image/png": "[encoded data removed]",
      "text/plain": [
       "<Figure size 432x288 with 1 Axes>"
      ]
     },
     "metadata": {
      "needs_background": "light"
     },
     "output_type": "display_data"
    },
    {
     "name": "stdout",
     "output_type": "stream",
     "text": [
      "pred: 1, prob: 0.72 true: 1\n"
     ]
    },
    {
     "data": {
      "image/png": "[encoded data removed]",
      "text/plain": [
       "<Figure size 432x288 with 1 Axes>"
      ]
     },
     "metadata": {
      "needs_background": "light"
     },
     "output_type": "display_data"
    },
    {
     "name": "stdout",
     "output_type": "stream",
     "text": [
      "pred: 1, prob: 0.72 true: 1\n"
     ]
    },
    {
     "data": {
      "image/png": "[encoded data removed]",
      "text/plain": [
       "<Figure size 432x288 with 1 Axes>"
      ]
     },
     "metadata": {
      "needs_background": "light"
     },
     "output_type": "display_data"
    },
    {
     "name": "stdout",
     "output_type": "stream",
     "text": [
      "pred: 0, prob: 0.7 true: 0\n"
     ]
    },
    {
     "data": {
      "image/png": "[encoded data removed]",
      "text/plain": [
       "<Figure size 432x288 with 1 Axes>"
      ]
     },
     "metadata": {
      "needs_background": "light"
     },
     "output_type": "display_data"
    },
    {
     "name": "stdout",
     "output_type": "stream",
     "text": [
      "pred: 1, prob: 0.58 true: 1\n"
     ]
    },
    {
     "data": {
      "image/png": "[encoded data removed]",
      "text/plain": [
       "<Figure size 432x288 with 1 Axes>"
      ]
     },
     "metadata": {
      "needs_background": "light"
     },
     "output_type": "display_data"
    },
    {
     "name": "stdout",
     "output_type": "stream",
     "text": [
      "pred: 0, prob: 0.81 true: 0\n"
     ]
    },
    {
     "data": {
      "image/png": "[encoded data removed]",
      "text/plain": [
       "<Figure size 432x288 with 1 Axes>"
      ]
     },
     "metadata": {
      "needs_background": "light"
     },
     "output_type": "display_data"
    },
    {
     "name": "stdout",
     "output_type": "stream",
     "text": [
      "pred: 0, prob: 0.58 true: 0\n"
     ]
    },
    {
     "data": {
      "image/png": "[encoded data removed]",
      "text/plain": [
       "<Figure size 432x288 with 1 Axes>"
      ]
     },
     "metadata": {
      "needs_background": "light"
     },
     "output_type": "display_data"
    },
    {
     "name": "stdout",
     "output_type": "stream",
     "text": [
      "pred: 0, prob: 0.9 true: 0\n"
     ]
    },
    {
     "data": {
      "image/png": "[encoded data removed]",
      "text/plain": [
       "<Figure size 432x288 with 1 Axes>"
      ]
     },
     "metadata": {
      "needs_background": "light"
     },
     "output_type": "display_data"
    },
    {
     "name": "stdout",
     "output_type": "stream",
     "text": [
      "pred: 1, prob: 0.74 true: 1\n"
     ]
    },
    {
     "data": {
      "image/png": "[encoded data removed]",
      "text/plain": [
       "<Figure size 432x288 with 1 Axes>"
      ]
     },
     "metadata": {
      "needs_background": "light"
     },
     "output_type": "display_data"
    },
    {
     "name": "stdout",
     "output_type": "stream",
     "text": [
      "pred: 1, prob: 0.78 true: 1\n"
     ]
    },
    {
     "data": {
      "image/png": "[encoded data removed]",
      "text/plain": [
       "<Figure size 432x288 with 1 Axes>"
      ]
     },
     "metadata": {
      "needs_background": "light"
     },
     "output_type": "display_data"
    },
    {
     "name": "stdout",
     "output_type": "stream",
     "text": [
      "pred: 0, prob: 0.64 true: 0\n"
     ]
    },
    {
     "data": {
      "image/png": "[encoded data removed]",
      "text/plain": [
       "<Figure size 432x288 with 1 Axes>"
      ]
     },
     "metadata": {
      "needs_background": "light"
     },
     "output_type": "display_data"
    },
    {
     "name": "stdout",
     "output_type": "stream",
     "text": [
      "pred: 1, prob: 0.72 true: 1\n"
     ]
    },
    {
     "data": {
      "image/png": "[encoded data removed]",
      "text/plain": [
       "<Figure size 432x288 with 1 Axes>"
      ]
     },
     "metadata": {
      "needs_background": "light"
     },
     "output_type": "display_data"
    }
   ],
   "source": [
    "# Display some Images for checking\n",
    "for image_test in test_rdd.map(lambda x: (x[0], predict(x[0], W1, B1, W2, B2), np.argmax(x[1]))).takeSample(False, 15):\n",
    "    \n",
    "    pred = np.argmax(image_test[1])\n",
    "    print(f'pred: {pred}, prob: {round(image_test[1][0][pred], 2)} true: {image_test[2]}')\n",
    "    image = np.reshape(image_test[0], (28, 28))\n",
    "    plt.imshow(image, cmap='binary')\n",
    "    plt.show()"
   ]
  },
  {
   "cell_type": "markdown",
   "metadata": {},
   "source": [
    "# Thank you !"
   ]
  }
 ],
 "metadata": {
  "kernelspec": {
   "display_name": "venv-3.7.7",
   "language": "python",
   "name": "venv-3.7.7"
  },
  "language_info": {
   "codemirror_mode": {
    "name": "ipython",
    "version": 3
   },
   "file_extension": ".py",
   "mimetype": "text/x-python",
   "name": "python",
   "nbconvert_exporter": "python",
   "pygments_lexer": "ipython3",
   "version": "3.7.7"
  }
 },
 "nbformat": 4,
 "nbformat_minor": 4
}
